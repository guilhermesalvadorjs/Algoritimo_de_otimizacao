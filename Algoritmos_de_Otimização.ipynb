{
  "cells": [
    {
      "cell_type": "markdown",
      "metadata": {
        "id": "ESWDPqjn7d2S"
      },
      "source": [
        "# Algoritmos de Otimização - Calendários de Voos"
      ]
    },
    {
      "cell_type": "markdown",
      "metadata": {
        "id": "VkaYoV4F8X70"
      },
      "source": [
        "## Representação do problema\n",
        "\n",
        "Vamos definir uma estrutura para representar os voos em um mapa (dicionário):\n",
        "\n",
        "voos(k, v), onde:\n",
        "\n",
        "- k = oridem, destino\n",
        "- v = hora de saída, hora de chegada, preço\n",
        "\n",
        "Lembrnado que:\n",
        "\n",
        "- FCO -> Roma\n",
        "- LIS -> Lisboa\n",
        "- MAD -> Madrid\n",
        "- CDG -> Paris\n",
        "- DUB -> Dublin\n",
        "- BRU -> Bruxelas\n",
        "- LHR -> Londres\n",
        "\n",
        "\n",
        "exemplo:\n",
        "\n",
        "```\n",
        "voos {('BRU', 'FCO'): ['15:44', '18:55', 382]}\n",
        "print(voos[('BRU', 'FCO')])\n",
        "print(voos[('BRU', 'FCO')])[0], print(voos[('BRU', 'FCO')])[1]\n",
        "\n",
        "```\n",
        "\n"
      ]
    },
    {
      "cell_type": "code",
      "execution_count": 1,
      "metadata": {
        "id": "Qb95UGHu-wUn"
      },
      "outputs": [],
      "source": [
        "# essa base possui 10 voos de ida de cada cidade para ROMA e 10 voos de volta\n",
        "# de ROMA para cada cidade de origem\n",
        "\n",
        "voos = {} #cria o mapa (dicionário)\n",
        "\n",
        "for linha in open('voos.txt'):\n",
        "  #print(linha)\n",
        "  #print(linha.split(','))\n",
        "\n",
        "  #criamos as 5 variáveis para nosso mapa, separando os dados por ','\n",
        "  origem, destino, saida, chegada, preco = linha.split(',')\n",
        "\n",
        "  #geração de um vetor com as chaves do mapa:\n",
        "  voos.setdefault((origem, destino), [])\n",
        "\n",
        "  #acrescenta os dados no mapa pelas chaves:\n",
        "  voos[(origem, destino)].append([saida, chegada, int(preco)])"
      ]
    },
    {
      "cell_type": "code",
      "execution_count": 2,
      "metadata": {
        "colab": {
          "base_uri": "https://localhost:8080/"
        },
        "id": "ttIXeLVGBAR0",
        "outputId": "653f6e7c-3a63-4a62-9d3d-f8d27c145545"
      },
      "outputs": [
        {
          "data": {
            "text/plain": [
              "{('ï»¿FCO', 'LIS'): [['6:19', '8:13', 239]],\n",
              " ('LIS', 'FCO'): [['6:11', '8:31', 249],\n",
              "  ['7:39', '10:24', 219],\n",
              "  ['9:15', '12:03', 99],\n",
              "  ['11:08', '13:07', 175],\n",
              "  ['12:18', '14:56', 172],\n",
              "  ['13:37', '15:08', 250],\n",
              "  ['15:03', '16:42', 135],\n",
              "  ['16:51', '19:09', 147],\n",
              "  ['18:12', '20:17', 242],\n",
              "  ['20:05', '22:06', 261]],\n",
              " ('FCO', 'LIS'): [['8:04', '10:59', 136],\n",
              "  ['9:31', '11:43', 210],\n",
              "  ['11:07', '13:24', 171],\n",
              "  ['12:31', '14:02', 234],\n",
              "  ['14:05', '15:47', 226],\n",
              "  ['15:07', '17:21', 129],\n",
              "  ['16:35', '18:56', 144],\n",
              "  ['18:25', '20:34', 205],\n",
              "  ['20:05', '21:44', 172]],\n",
              " ('FCO', 'MAD'): [['6:03', '8:43', 219],\n",
              "  ['7:50', '10:08', 164],\n",
              "  ['9:11', '10:42', 172],\n",
              "  ['10:33', '13:11', 132],\n",
              "  ['12:08', '14:47', 231],\n",
              "  ['14:19', '17:09', 190],\n",
              "  ['15:04', '17:23', 189],\n",
              "  ['17:06', '20:00', 95],\n",
              "  ['18:33', '20:22', 143],\n",
              "  ['19:32', '21:25', 160]],\n",
              " ('MAD', 'FCO'): [['6:05', '8:32', 174],\n",
              "  ['8:25', '10:34', 157],\n",
              "  ['9:42', '11:32', 169],\n",
              "  ['11:01', '12:39', 260],\n",
              "  ['12:44', '14:17', 134],\n",
              "  ['14:22', '16:32', 126],\n",
              "  ['15:58', '18:40', 173],\n",
              "  ['16:43', '19:00', 246],\n",
              "  ['18:48', '21:45', 246],\n",
              "  ['19:50', '22:24', 269]],\n",
              " ('FCO', 'CDG'): [['6:33', '9:14', 172],\n",
              "  ['8:23', '11:07', 143],\n",
              "  ['9:25', '12:46', 295],\n",
              "  ['11:08', '14:38', 262],\n",
              "  ['12:37', '15:05', 170],\n",
              "  ['14:08', '16:09', 232],\n",
              "  ['15:23', '18:49', 150],\n",
              "  ['16:50', '19:26', 304],\n",
              "  ['18:07', '21:30', 355],\n",
              "  ['20:27', '23:42', 169]],\n",
              " ('CDG', 'FCO'): [['6:25', '9:30', 335],\n",
              "  ['7:34', '9:40', 324],\n",
              "  ['9:15', '12:29', 225],\n",
              "  ['11:28', '14:40', 248],\n",
              "  ['12:05', '15:30', 330],\n",
              "  ['14:01', '17:24', 338],\n",
              "  ['15:34', '18:11', 326],\n",
              "  ['17:07', '20:04', 291],\n",
              "  ['18:23', '21:35', 134],\n",
              "  ['19:53', '22:21', 173]],\n",
              " ('FCO', 'DUB'): [['6:39', '8:09', 86],\n",
              "  ['8:23', '10:28', 149],\n",
              "  ['9:58', '11:18', 130],\n",
              "  ['10:33', '12:03', 74],\n",
              "  ['12:08', '14:05', 142],\n",
              "  ['13:39', '15:30', 74],\n",
              "  ['15:25', '16:58', 62],\n",
              "  ['17:03', '18:03', 103],\n",
              "  ['18:24', '20:49', 124],\n",
              "  ['19:58', '21:23', 142]],\n",
              " ('DUB', 'FCO'): [['6:17', '8:26', 89],\n",
              "  ['8:04', '10:11', 95],\n",
              "  ['9:45', '11:50', 172],\n",
              "  ['11:16', '13:29', 83],\n",
              "  ['12:34', '15:02', 109],\n",
              "  ['13:40', '15:37', 138],\n",
              "  ['15:27', '17:18', 151],\n",
              "  ['17:11', '18:30', 108],\n",
              "  ['18:34', '19:36', 136],\n",
              "  ['20:17', '22:22', 102]],\n",
              " ('FCO', 'BRU'): [['6:09', '9:49', 414],\n",
              "  ['7:57', '11:15', 347],\n",
              "  ['9:49', '13:51', 229],\n",
              "  ['10:51', '14:16', 256],\n",
              "  ['12:20', '16:34', 500],\n",
              "  ['14:20', '17:32', 332],\n",
              "  ['15:49', '20:10', 497],\n",
              "  ['17:14', '20:59', 277],\n",
              "  ['18:44', '22:42', 351],\n",
              "  ['19:57', '23:15', 512]],\n",
              " ('BRU', 'FCO'): [['6:12', '10:22', 230],\n",
              "  ['7:53', '11:37', 433],\n",
              "  ['9:08', '12:12', 364],\n",
              "  ['10:30', '14:57', 290],\n",
              "  ['12:19', '15:25', 342],\n",
              "  ['13:54', '18:02', 294],\n",
              "  ['15:44', '18:55', 382],\n",
              "  ['16:52', '20:48', 448],\n",
              "  ['18:26', '21:29', 464],\n",
              "  ['20:07', '23:27', 473]],\n",
              " ('FCO', 'LHR'): [['6:58', '9:01', 238],\n",
              "  ['8:19', '11:16', 122],\n",
              "  ['9:58', '12:56', 249],\n",
              "  ['10:32', '13:16', 139],\n",
              "  ['12:01', '13:41', 267],\n",
              "  ['13:37', '15:33', 142],\n",
              "  ['15:50', '18:45', 243],\n",
              "  ['16:33', '18:15', 253],\n",
              "  ['18:17', '21:04', 259],\n",
              "  ['19:46', '21:45', 214]],\n",
              " ('LHR', 'FCO'): [['6:08', '8:06', 224],\n",
              "  ['8:27', '10:45', 139],\n",
              "  ['9:15', '12:14', 247],\n",
              "  ['10:53', '13:36', 189],\n",
              "  ['12:08', '14:59', 149],\n",
              "  ['13:40', '15:38', 137],\n",
              "  ['15:23', '17:25', 232],\n",
              "  ['17:08', '19:08', 262],\n",
              "  ['18:35', '20:28', 204],\n",
              "  ['20:30', '23:11', 114]]}"
            ]
          },
          "execution_count": 2,
          "metadata": {},
          "output_type": "execute_result"
        }
      ],
      "source": [
        "# apenas um teste\n",
        "# repare que gerou-se um mapa com as chaves \"origem\", \"destino\" (únicas) e com\n",
        "# todos os voos deisponíveis para este trecho\n",
        "voos"
      ]
    },
    {
      "cell_type": "code",
      "execution_count": 3,
      "metadata": {
        "colab": {
          "base_uri": "https://localhost:8080/"
        },
        "id": "4jplc5GmBsLf",
        "outputId": "07be6df0-4eba-4d6c-8a98-2291e91c8d2d"
      },
      "outputs": [
        {
          "data": {
            "text/plain": [
              "[['6:39', '8:09', 86],\n",
              " ['8:23', '10:28', 149],\n",
              " ['9:58', '11:18', 130],\n",
              " ['10:33', '12:03', 74],\n",
              " ['12:08', '14:05', 142],\n",
              " ['13:39', '15:30', 74],\n",
              " ['15:25', '16:58', 62],\n",
              " ['17:03', '18:03', 103],\n",
              " ['18:24', '20:49', 124],\n",
              " ['19:58', '21:23', 142]]"
            ]
          },
          "execution_count": 3,
          "metadata": {},
          "output_type": "execute_result"
        }
      ],
      "source": [
        "voos['FCO', 'DUB']"
      ]
    },
    {
      "cell_type": "code",
      "execution_count": 4,
      "metadata": {
        "colab": {
          "base_uri": "https://localhost:8080/"
        },
        "id": "gZJlnY8mB0jc",
        "outputId": "738d61e6-be01-4263-be99-48ad61ad1554"
      },
      "outputs": [
        {
          "data": {
            "text/plain": [
              "[['6:17', '8:26', 89],\n",
              " ['8:04', '10:11', 95],\n",
              " ['9:45', '11:50', 172],\n",
              " ['11:16', '13:29', 83],\n",
              " ['12:34', '15:02', 109],\n",
              " ['13:40', '15:37', 138],\n",
              " ['15:27', '17:18', 151],\n",
              " ['17:11', '18:30', 108],\n",
              " ['18:34', '19:36', 136],\n",
              " ['20:17', '22:22', 102]]"
            ]
          },
          "execution_count": 4,
          "metadata": {},
          "output_type": "execute_result"
        }
      ],
      "source": [
        "voos['DUB', 'FCO']"
      ]
    },
    {
      "cell_type": "code",
      "execution_count": 5,
      "metadata": {
        "colab": {
          "base_uri": "https://localhost:8080/"
        },
        "id": "Ri5W1v9bB6O_",
        "outputId": "2502f765-f16c-450a-f2d1-7e69f7dcd8de"
      },
      "outputs": [
        {
          "data": {
            "text/plain": [
              "205"
            ]
          },
          "execution_count": 5,
          "metadata": {},
          "output_type": "execute_result"
        }
      ],
      "source": [
        "voos['FCO', 'LIS'][7][2]"
      ]
    },
    {
      "cell_type": "code",
      "execution_count": 6,
      "metadata": {
        "id": "JlVu6f0TaOe7"
      },
      "outputs": [],
      "source": [
        "pessoas = [('Portugês', 'LIS'), # Lisboa - 0 1\n",
        "           ('Espanhol', 'MAD'), # Madrid - 2 3\n",
        "           ('Francês', 'CDG'),  # Paris  - 4 5\n",
        "           ('Irlandês', 'DUB'), # Dublin - 6 7\n",
        "           ('Belga', 'BRU'),    # Bruxelas - 8 9\n",
        "           ('Londrino', 'LHR')] # Londres - 10 11\n"
      ]
    },
    {
      "cell_type": "code",
      "execution_count": 7,
      "metadata": {
        "colab": {
          "base_uri": "https://localhost:8080/"
        },
        "id": "GCD2yB2SbNEI",
        "outputId": "3e533c0d-13cf-4477-c59b-ca9378cee2b3"
      },
      "outputs": [
        {
          "data": {
            "text/plain": [
              "('Irlandês', 'DUB')"
            ]
          },
          "execution_count": 7,
          "metadata": {},
          "output_type": "execute_result"
        }
      ],
      "source": [
        "pessoas[3]"
      ]
    },
    {
      "cell_type": "code",
      "execution_count": 8,
      "metadata": {
        "colab": {
          "base_uri": "https://localhost:8080/",
          "height": 35
        },
        "id": "A45hDI2HbUNe",
        "outputId": "f3e2146b-6388-4203-ff42-e0c46d9b1dc5"
      },
      "outputs": [
        {
          "data": {
            "text/plain": [
              "'Irlandês'"
            ]
          },
          "execution_count": 8,
          "metadata": {},
          "output_type": "execute_result"
        }
      ],
      "source": [
        "pessoas[3][0]"
      ]
    },
    {
      "cell_type": "code",
      "execution_count": 9,
      "metadata": {
        "id": "gPg0-9aQbgyg"
      },
      "outputs": [],
      "source": [
        "destino = 'FCO' #Roma"
      ]
    },
    {
      "cell_type": "markdown",
      "metadata": {
        "id": "nfmw2WHWb8hH"
      },
      "source": [
        "Para os algoritmos funcionarem corretamente precisaremos representar uma \"agenda\"\n",
        "\n",
        "Como temos 6 locais de origem e destino, então usaremos um vetor de 12 posições, sendo 6 voos de ida + 6 voos de volta. Uma ida e uma volta para cada viajante.\n",
        "\n",
        "- pessoa1: ida, volta\n",
        "- pessoa2: ida, volta\n",
        "- ...\n",
        "\n",
        "\n",
        "Lembre-se que a ORDEM das pessoas é: LISBOA, MADRID, PARIS, BRUXELAS, LONDRES\n",
        "\n",
        "Por isso, usaremos uma representação assim no vetor exemplo):\n",
        "\n",
        "```\n",
        "[0] -> De LISBOA até ROMA -> VOO 1 (segundo voo da lista de voos)\n",
        "[1] -> De ROMA até LISBOA -> VOO3 (quarto voo da lista de voos)\n",
        "[2] -> De MADRID até ROMA -> VOO 6 (sétimo voo da listas de voos)\n",
        "[3] -> De ROMA até Madrid -> VOO5 (sexto voo da lista de voos)\n",
        "```\n"
      ]
    },
    {
      "cell_type": "code",
      "execution_count": 10,
      "metadata": {
        "colab": {
          "base_uri": "https://localhost:8080/"
        },
        "id": "aBtuhhx8exw4",
        "outputId": "f03244e0-e631-4d01-d954-f0df8668a9a3"
      },
      "outputs": [
        {
          "data": {
            "text/plain": [
              "12"
            ]
          },
          "execution_count": 10,
          "metadata": {},
          "output_type": "execute_result"
        }
      ],
      "source": [
        "agenda = [5,2, 3,0, 7,3, 6,1, 4,2, 8,5] # quem montará a agenda é o próprio algoritmo\n",
        "len(agenda)"
      ]
    },
    {
      "cell_type": "code",
      "execution_count": 11,
      "metadata": {
        "colab": {
          "base_uri": "https://localhost:8080/"
        },
        "id": "hvo6ClFDfTp-",
        "outputId": "2d812664-a431-41bc-b12a-967bf158c760"
      },
      "outputs": [
        {
          "data": {
            "text/plain": [
              "[['6:11', '8:31', 249],\n",
              " ['7:39', '10:24', 219],\n",
              " ['9:15', '12:03', 99],\n",
              " ['11:08', '13:07', 175],\n",
              " ['12:18', '14:56', 172],\n",
              " ['13:37', '15:08', 250],\n",
              " ['15:03', '16:42', 135],\n",
              " ['16:51', '19:09', 147],\n",
              " ['18:12', '20:17', 242],\n",
              " ['20:05', '22:06', 261]]"
            ]
          },
          "execution_count": 11,
          "metadata": {},
          "output_type": "execute_result"
        }
      ],
      "source": [
        "voos['LIS', 'FCO']"
      ]
    },
    {
      "cell_type": "code",
      "execution_count": 12,
      "metadata": {
        "colab": {
          "base_uri": "https://localhost:8080/"
        },
        "id": "yPiDU0Sjff5v",
        "outputId": "7781ec30-d738-4b38-bf69-1c43b9515be9"
      },
      "outputs": [
        {
          "data": {
            "text/plain": [
              "['13:37', '15:08', 250]"
            ]
          },
          "execution_count": 12,
          "metadata": {},
          "output_type": "execute_result"
        }
      ],
      "source": [
        "voos['LIS', 'FCO'][5]"
      ]
    },
    {
      "cell_type": "code",
      "execution_count": 13,
      "metadata": {
        "colab": {
          "base_uri": "https://localhost:8080/"
        },
        "id": "h8KCHhrsftmG",
        "outputId": "2555f099-5a8e-4451-a285-0a096e006007"
      },
      "outputs": [
        {
          "data": {
            "text/plain": [
              "['11:07', '13:24', 171]"
            ]
          },
          "execution_count": 13,
          "metadata": {},
          "output_type": "execute_result"
        }
      ],
      "source": [
        "voos['FCO', 'LIS'][2]"
      ]
    },
    {
      "cell_type": "markdown",
      "metadata": {
        "id": "AQ8X3IDvf1BX"
      },
      "source": [
        "## Função de impressão de uma agenda"
      ]
    },
    {
      "cell_type": "code",
      "execution_count": 14,
      "metadata": {
        "id": "HvNfwn8qg1_h"
      },
      "outputs": [],
      "source": [
        "from prettytable import PrettyTable # veja: https://pypi.org/project/prettytable/\n",
        "\n",
        "# vamos criar uma forma de mostrar os resultados de uma agenda\n",
        "\n",
        "def imprimir_voos(agenda):\n",
        "  id_voo = -1\n",
        "  preco_total = 0\n",
        "  tabela = PrettyTable(['Pessoa', 'Origem', 'Destino', 'H.Saída', 'H.Chegada', 'Valor'])\n",
        "  for i in range(len(agenda) // 2):\n",
        "    nome = pessoas[i][0]\n",
        "    origem = pessoas[i][1]\n",
        "    id_voo += 1\n",
        "    ida = voos[(origem, destino)][agenda[id_voo]]\n",
        "    preco_total += ida[2]\n",
        "    id_voo += 1\n",
        "    volta = voos[(destino, origem)][agenda[id_voo]]\n",
        "    preco_total += volta[2]\n",
        "\n",
        "    tabela.add_row([nome, origem, destino, ida[0], ida[1], ida[2]])\n",
        "    tabela.add_row([nome, destino, origem, volta[0], volta[1], volta[2]])\n",
        "    if (i != (len(agenda) // 2) - 1):\n",
        "      tabela.add_row(['-','-','-','-','-','-'])\n",
        "  print(tabela)\n",
        "  print(f'Valor total: {preco_total}')\n"
      ]
    },
    {
      "cell_type": "code",
      "execution_count": 15,
      "metadata": {
        "colab": {
          "base_uri": "https://localhost:8080/"
        },
        "id": "Jqq3zXGxjnzH",
        "outputId": "c6fb5b7a-2691-488e-c59a-26fb3ce304f2"
      },
      "outputs": [
        {
          "name": "stdout",
          "output_type": "stream",
          "text": [
            "+----------+--------+---------+---------+-----------+-------+\n",
            "|  Pessoa  | Origem | Destino | H.Saída | H.Chegada | Valor |\n",
            "+----------+--------+---------+---------+-----------+-------+\n",
            "| Portugês |  LIS   |   FCO   |  13:37  |   15:08   |  250  |\n",
            "| Portugês |  FCO   |   LIS   |  11:07  |   13:24   |  171  |\n",
            "|    -     |   -    |    -    |    -    |     -     |   -   |\n",
            "| Espanhol |  MAD   |   FCO   |  11:01  |   12:39   |  260  |\n",
            "| Espanhol |  FCO   |   MAD   |   6:03  |    8:43   |  219  |\n",
            "|    -     |   -    |    -    |    -    |     -     |   -   |\n",
            "| Francês  |  CDG   |   FCO   |  17:07  |   20:04   |  291  |\n",
            "| Francês  |  FCO   |   CDG   |  11:08  |   14:38   |  262  |\n",
            "|    -     |   -    |    -    |    -    |     -     |   -   |\n",
            "| Irlandês |  DUB   |   FCO   |  18:34  |   19:36   |  136  |\n",
            "| Irlandês |  FCO   |   DUB   |   8:23  |   10:28   |  149  |\n",
            "|    -     |   -    |    -    |    -    |     -     |   -   |\n",
            "|  Belga   |  BRU   |   FCO   |  10:30  |   14:57   |  290  |\n",
            "|  Belga   |  FCO   |   BRU   |   9:49  |   13:51   |  229  |\n",
            "|    -     |   -    |    -    |    -    |     -     |   -   |\n",
            "| Londrino |  LHR   |   FCO   |  10:53  |   13:36   |  189  |\n",
            "| Londrino |  FCO   |   LHR   |  13:37  |   15:33   |  142  |\n",
            "+----------+--------+---------+---------+-----------+-------+\n",
            "Valor total: 2588\n"
          ]
        }
      ],
      "source": [
        "agenda = [5,2, 3,0, 7,3, 8,1, 3,2, 3,5]\n",
        "imprimir_voos(agenda)"
      ]
    },
    {
      "cell_type": "code",
      "execution_count": 16,
      "metadata": {
        "colab": {
          "base_uri": "https://localhost:8080/"
        },
        "id": "Afi34oO8k-4-",
        "outputId": "019c8b51-5f76-4187-e7ad-cc76ac583b33"
      },
      "outputs": [
        {
          "data": {
            "text/plain": [
              "1000000000000"
            ]
          },
          "execution_count": 16,
          "metadata": {},
          "output_type": "execute_result"
        }
      ],
      "source": [
        "# apenas para ilustrar: quantidade total de combinações para essa solução\n",
        "10**12"
      ]
    },
    {
      "cell_type": "markdown",
      "metadata": {
        "id": "gB4_15IOn1uX"
      },
      "source": [
        " ## Fitness Function (função de custo)\n",
        "\n",
        " Serve para verificar se uma solução é boa ou não. Precisamos, em algoritmos de otimização, criar nossa própria função de custo. Cada problema terá sua função de custo específica.\n",
        "\n",
        " Possui praticamente o mesmo código que usamos para imprimir a agenda, entretanto vamos considerar apenas o valor total das passagens (neste caso) que é o que vamos otimizar (minimizar custos)"
      ]
    },
    {
      "cell_type": "code",
      "execution_count": 17,
      "metadata": {
        "id": "zLmy6J-_n0j-"
      },
      "outputs": [],
      "source": [
        "def fitness_function(agenda):\n",
        "  id_voo = -1\n",
        "  preco_total = 0\n",
        "  for i in range(len(agenda) // 2):\n",
        "    origem = pessoas[i][1]\n",
        "    id_voo += 1\n",
        "    ida = voos[(origem, destino)][agenda[id_voo]]\n",
        "    preco_total += ida[2]\n",
        "    id_voo += 1\n",
        "    volta = voos[(destino, origem)][agenda[id_voo]]\n",
        "    preco_total += volta[2]\n",
        "\n",
        "  return preco_total"
      ]
    },
    {
      "cell_type": "code",
      "execution_count": 18,
      "metadata": {
        "colab": {
          "base_uri": "https://localhost:8080/"
        },
        "id": "ENDlKd-kpBOm",
        "outputId": "6611577c-a5b8-4686-ae8f-81b2ea68b63e"
      },
      "outputs": [
        {
          "data": {
            "text/plain": [
              "2437"
            ]
          },
          "execution_count": 18,
          "metadata": {},
          "output_type": "execute_result"
        }
      ],
      "source": [
        "# exemplo\n",
        "agenda = [3,2, 3,5, 7,3, 0,1, 3,2, 3,5]\n",
        "fitness_function(agenda)"
      ]
    },
    {
      "cell_type": "code",
      "execution_count": 19,
      "metadata": {
        "id": "vzEagTujpcN-"
      },
      "outputs": [],
      "source": [
        "import six\n",
        "import sys\n",
        "sys.modules['sklearn.externals.six'] = six\n",
        "import mlrose"
      ]
    },
    {
      "cell_type": "code",
      "execution_count": 20,
      "metadata": {
        "id": "gDNgvbrDqn5u"
      },
      "outputs": [],
      "source": [
        "fitness = mlrose.CustomFitness(fitness_function)"
      ]
    },
    {
      "cell_type": "code",
      "execution_count": 21,
      "metadata": {
        "id": "KAP-V96iqyZl"
      },
      "outputs": [],
      "source": [
        "# Trabalharemos com valores discretos (inteiros)\n",
        "# Parâmetros utilizados no problema:\n",
        "# - lenght: Tamanho da solução\n",
        "# - função: Nossa função de fitness\n",
        "# - maximize: que tipo de solução queremos: True refere-se aos maiores; False aos menores\n",
        "# - max_val: a quantidade de voos que temos (valor máximo de cada posição na solução)\n",
        "\n",
        "problema = mlrose.DiscreteOpt(length=12, fitness_fn=fitness, maximize=False, max_val=10)"
      ]
    },
    {
      "cell_type": "markdown",
      "metadata": {
        "id": "c0eaqlDcr7DG"
      },
      "source": [
        "## Hill Climb"
      ]
    },
    {
      "cell_type": "code",
      "execution_count": null,
      "metadata": {
        "id": "P5mDYTJOsDlN"
      },
      "outputs": [],
      "source": [
        "# o parâmetro \"random_state\" representa como é gerado o estado inicial\n",
        "melhor_solucao, melhor_custo = mlrose.hill_climb(problema, random_state=1)"
      ]
    },
    {
      "cell_type": "code",
      "execution_count": null,
      "metadata": {
        "colab": {
          "base_uri": "https://localhost:8080/"
        },
        "id": "3DecV0cjsVxt",
        "outputId": "0a62f180-5057-48b0-c460-ef64102413ff"
      },
      "outputs": [
        {
          "name": "stdout",
          "output_type": "stream",
          "text": [
            "[2 6 5 7 8 1 3 6 0 2 9 1]\n",
            "1566.0\n"
          ]
        }
      ],
      "source": [
        "print(melhor_solucao)\n",
        "print(melhor_custo)"
      ]
    },
    {
      "cell_type": "code",
      "execution_count": null,
      "metadata": {
        "colab": {
          "base_uri": "https://localhost:8080/"
        },
        "id": "sPov8sgtseaG",
        "outputId": "167db75c-b151-4bbf-90fc-3627cdf2fb19"
      },
      "outputs": [
        {
          "name": "stdout",
          "output_type": "stream",
          "text": [
            "+----------+--------+---------+---------+-----------+-------+\n",
            "|  Pessoa  | Origem | Destino | H.Saída | H.Chegada | Valor |\n",
            "+----------+--------+---------+---------+-----------+-------+\n",
            "| Portugês |  LIS   |   FCO   |   9:15  |   12:03   |   99  |\n",
            "| Portugês |  FCO   |   LIS   |  15:07  |   17:21   |  129  |\n",
            "|    -     |   -    |    -    |    -    |     -     |   -   |\n",
            "| Espanhol |  MAD   |   FCO   |  14:22  |   16:32   |  126  |\n",
            "| Espanhol |  FCO   |   MAD   |  17:06  |   20:00   |   95  |\n",
            "|    -     |   -    |    -    |    -    |     -     |   -   |\n",
            "| Francês  |  CDG   |   FCO   |  18:23  |   21:35   |  134  |\n",
            "| Francês  |  FCO   |   CDG   |   8:23  |   11:07   |  143  |\n",
            "|    -     |   -    |    -    |    -    |     -     |   -   |\n",
            "| Irlandês |  DUB   |   FCO   |  11:16  |   13:29   |   83  |\n",
            "| Irlandês |  FCO   |   DUB   |  15:25  |   16:58   |   62  |\n",
            "|    -     |   -    |    -    |    -    |     -     |   -   |\n",
            "|  Belga   |  BRU   |   FCO   |   6:12  |   10:22   |  230  |\n",
            "|  Belga   |  FCO   |   BRU   |   9:49  |   13:51   |  229  |\n",
            "|    -     |   -    |    -    |    -    |     -     |   -   |\n",
            "| Londrino |  LHR   |   FCO   |  20:30  |   23:11   |  114  |\n",
            "| Londrino |  FCO   |   LHR   |   8:19  |   11:16   |  122  |\n",
            "+----------+--------+---------+---------+-----------+-------+\n",
            "Valor total: 1566\n"
          ]
        }
      ],
      "source": [
        "imprimir_voos(melhor_solucao)"
      ]
    },
    {
      "cell_type": "markdown",
      "metadata": {
        "id": "6ipm7Khz8WWg"
      },
      "source": [
        "## Simulated Annealing"
      ]
    },
    {
      "cell_type": "code",
      "execution_count": null,
      "metadata": {
        "colab": {
          "base_uri": "https://localhost:8080/"
        },
        "id": "5v_u2yj48cHx",
        "outputId": "accba895-74da-4007-d5c9-429485408fb4"
      },
      "outputs": [
        {
          "name": "stdout",
          "output_type": "stream",
          "text": [
            "[2 9 5 3 8 1 1 5 0 2 9 5]\n",
            "1690.0\n"
          ]
        }
      ],
      "source": [
        "from mlrose.neural import GeomDecay\n",
        "\n",
        "melhor_solucao, melhor_custo = mlrose.simulated_annealing(problema,\n",
        "                                                          schedule=mlrose.decay.GeomDecay(init_temp=1000000),\n",
        "                                                          random_state=1)\n",
        "\n",
        "\n",
        "print(melhor_solucao)\n",
        "print(melhor_custo)"
      ]
    },
    {
      "cell_type": "code",
      "execution_count": null,
      "metadata": {
        "colab": {
          "base_uri": "https://localhost:8080/"
        },
        "id": "2AIoOnpI9EIt",
        "outputId": "b80ba101-3520-4b83-ab6b-1ea33fe9e487"
      },
      "outputs": [
        {
          "name": "stdout",
          "output_type": "stream",
          "text": [
            "+----------+--------+---------+---------+-----------+-------+\n",
            "|  Pessoa  | Origem | Destino | H.Saída | H.Chegada | Valor |\n",
            "+----------+--------+---------+---------+-----------+-------+\n",
            "| Portugês |  LIS   |   FCO   |  15:03  |   16:42   |  135  |\n",
            "| Portugês |  FCO   |   LIS   |   8:04  |   10:59   |  136  |\n",
            "|    -     |   -    |    -    |    -    |     -     |   -   |\n",
            "| Espanhol |  MAD   |   FCO   |  14:22  |   16:32   |  126  |\n",
            "| Espanhol |  FCO   |   MAD   |  17:06  |   20:00   |   95  |\n",
            "|    -     |   -    |    -    |    -    |     -     |   -   |\n",
            "| Francês  |  CDG   |   FCO   |  19:53  |   22:21   |  173  |\n",
            "| Francês  |  FCO   |   CDG   |  15:23  |   18:49   |  150  |\n",
            "|    -     |   -    |    -    |    -    |     -     |   -   |\n",
            "| Irlandês |  DUB   |   FCO   |  11:16  |   13:29   |   83  |\n",
            "| Irlandês |  FCO   |   DUB   |  10:33  |   12:03   |   74  |\n",
            "|    -     |   -    |    -    |    -    |     -     |   -   |\n",
            "|  Belga   |  BRU   |   FCO   |  13:54  |   18:02   |  294  |\n",
            "|  Belga   |  FCO   |   BRU   |   9:49  |   13:51   |  229  |\n",
            "|    -     |   -    |    -    |    -    |     -     |   -   |\n",
            "| Londrino |  LHR   |   FCO   |  20:30  |   23:11   |  114  |\n",
            "| Londrino |  FCO   |   LHR   |   8:19  |   11:16   |  122  |\n",
            "+----------+--------+---------+---------+-----------+-------+\n",
            "Valor total: 1731\n"
          ]
        }
      ],
      "source": [
        "imprimir_voos(melhor_solucao)"
      ]
    },
    {
      "cell_type": "code",
      "execution_count": null,
      "metadata": {
        "colab": {
          "base_uri": "https://localhost:8080/"
        },
        "id": "U7KyYJXV9qUf",
        "outputId": "2364dbdd-75ee-4cbe-a5fc-e166581ec854"
      },
      "outputs": [
        {
          "name": "stdout",
          "output_type": "stream",
          "text": [
            "Help on function simulated_annealing in module mlrose.algorithms:\n",
            "\n",
            "simulated_annealing(problem, schedule=<mlrose.decay.GeomDecay object at 0x7f39484036a0>, max_attempts=10, max_iters=inf, init_state=None, curve=False, random_state=None)\n",
            "    Use simulated annealing to find the optimum for a given\n",
            "    optimization problem.\n",
            "    \n",
            "    Parameters\n",
            "    ----------\n",
            "    problem: optimization object\n",
            "        Object containing fitness function optimization problem to be solved.\n",
            "        For example, :code:`DiscreteOpt()`, :code:`ContinuousOpt()` or\n",
            "        :code:`TSPOpt()`.\n",
            "    schedule: schedule object, default: :code:`mlrose.GeomDecay()`\n",
            "        Schedule used to determine the value of the temperature parameter.\n",
            "    max_attempts: int, default: 10\n",
            "        Maximum number of attempts to find a better neighbor at each step.\n",
            "    max_iters: int, default: np.inf\n",
            "        Maximum number of iterations of the algorithm.\n",
            "    init_state: array, default: None\n",
            "        1-D Numpy array containing starting state for algorithm.\n",
            "        If :code:`None`, then a random state is used.\n",
            "    curve: bool, default: False\n",
            "        Boolean to keep fitness values for a curve.\n",
            "        If :code:`False`, then no curve is stored.\n",
            "        If :code:`True`, then a history of fitness values is provided as a\n",
            "        third return value.\n",
            "    random_state: int, default: None\n",
            "        If random_state is a positive integer, random_state is the seed used\n",
            "        by np.random.seed(); otherwise, the random seed is not set.\n",
            "    \n",
            "    Returns\n",
            "    -------\n",
            "    best_state: array\n",
            "        Numpy array containing state that optimizes the fitness function.\n",
            "    best_fitness: float\n",
            "        Value of fitness function at best state.\n",
            "    fitness_curve: array\n",
            "        Numpy array containing the fitness at every iteration.\n",
            "        Only returned if input argument :code:`curve` is :code:`True`.\n",
            "    \n",
            "    References\n",
            "    ----------\n",
            "    Russell, S. and P. Norvig (2010). *Artificial Intelligence: A Modern\n",
            "    Approach*, 3rd edition. Prentice Hall, New Jersey, USA.\n",
            "\n"
          ]
        }
      ],
      "source": [
        "help(mlrose.simulated_annealing)"
      ]
    },
    {
      "cell_type": "markdown",
      "metadata": {
        "id": "a_x10rZ6Cdob"
      },
      "source": [
        "## Algoritmo Genético"
      ]
    },
    {
      "cell_type": "code",
      "execution_count": null,
      "metadata": {
        "colab": {
          "base_uri": "https://localhost:8080/"
        },
        "id": "LVqJASg8CdU5",
        "outputId": "697152d7-d14f-453c-dbcb-f77283a6f488"
      },
      "outputs": [
        {
          "name": "stdout",
          "output_type": "stream",
          "text": [
            "[2 2 6 3 8 9 0 0 0 3 5 5]\n",
            "1857.0\n"
          ]
        }
      ],
      "source": [
        "# parâmetros que utilizaremos\n",
        "\n",
        "# pop_size: tamanho da população inicial (será gerada aleatóriamente)\n",
        "# mutation_prob = probabilidade de ocorrer uma mutação durante a evolução (em porcentagem)\n",
        "# max_iter = critério de parada - opcional (número máximo de gerações a serem geradas)\n",
        "\n",
        "melhor_solucao, melhor_custo = mlrose.genetic_alg(problema, pop_size=10000,\n",
        "                                                  mutation_prob=0.1, random_state=1)\n",
        "\n",
        "print(melhor_solucao)\n",
        "print(melhor_custo)"
      ]
    },
    {
      "cell_type": "code",
      "execution_count": null,
      "metadata": {
        "colab": {
          "base_uri": "https://localhost:8080/"
        },
        "id": "UhEHGxLwC-LR",
        "outputId": "e6d97f29-c07e-4d1a-b341-2e02227861c8"
      },
      "outputs": [
        {
          "name": "stdout",
          "output_type": "stream",
          "text": [
            "+----------+--------+---------+---------+-----------+-------+\n",
            "|  Pessoa  | Origem | Destino | H.Saída | H.Chegada | Valor |\n",
            "+----------+--------+---------+---------+-----------+-------+\n",
            "| Portugês |  LIS   |   FCO   |  16:51  |   19:09   |  147  |\n",
            "| Portugês |  FCO   |   LIS   |  16:35  |   18:56   |  144  |\n",
            "|    -     |   -    |    -    |    -    |     -     |   -   |\n",
            "| Espanhol |  MAD   |   FCO   |  15:58  |   18:40   |  173  |\n",
            "| Espanhol |  FCO   |   MAD   |  14:19  |   17:09   |  190  |\n",
            "|    -     |   -    |    -    |    -    |     -     |   -   |\n",
            "| Francês  |  CDG   |   FCO   |  18:23  |   21:35   |  134  |\n",
            "| Francês  |  FCO   |   CDG   |  12:37  |   15:05   |  170  |\n",
            "|    -     |   -    |    -    |    -    |     -     |   -   |\n",
            "| Irlandês |  DUB   |   FCO   |   8:04  |   10:11   |   95  |\n",
            "| Irlandês |  FCO   |   DUB   |  15:25  |   16:58   |   62  |\n",
            "|    -     |   -    |    -    |    -    |     -     |   -   |\n",
            "|  Belga   |  BRU   |   FCO   |   6:12  |   10:22   |  230  |\n",
            "|  Belga   |  FCO   |   BRU   |   9:49  |   13:51   |  229  |\n",
            "|    -     |   -    |    -    |    -    |     -     |   -   |\n",
            "| Londrino |  LHR   |   FCO   |  20:30  |   23:11   |  114  |\n",
            "| Londrino |  FCO   |   LHR   |   8:19  |   11:16   |  122  |\n",
            "+----------+--------+---------+---------+-----------+-------+\n",
            "Valor total: 1810\n"
          ]
        }
      ],
      "source": [
        "imprimir_voos(melhor_solucao)"
      ]
    }
  ],
  "metadata": {
    "colab": {
      "provenance": []
    },
    "kernelspec": {
      "display_name": "Python 3",
      "name": "python3"
    },
    "language_info": {
      "codemirror_mode": {
        "name": "ipython",
        "version": 3
      },
      "file_extension": ".py",
      "mimetype": "text/x-python",
      "name": "python",
      "nbconvert_exporter": "python",
      "pygments_lexer": "ipython3",
      "version": "3.11.4"
    }
  },
  "nbformat": 4,
  "nbformat_minor": 0
}
